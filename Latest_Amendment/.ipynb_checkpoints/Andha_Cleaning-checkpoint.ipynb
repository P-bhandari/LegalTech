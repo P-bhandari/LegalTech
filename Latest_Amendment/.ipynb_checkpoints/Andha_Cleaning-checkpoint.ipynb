{
 "cells": [
  {
   "cell_type": "code",
   "execution_count": 65,
   "metadata": {},
   "outputs": [
    {
     "name": "stdout",
     "output_type": "stream",
     "text": [
      "2717\n"
     ]
    }
   ],
   "source": [
    "\n",
    "from bs4 import BeautifulSoup\n",
    "\n",
    "import requests\n",
    "import re\n",
    "import math\n",
    "import pandas as pd\n",
    "import time\n",
    "df = pd.read_pickle(\"andha_panda\")\n",
    "loop_index = len(df.index);\n",
    "print(loop_index)"
   ]
  },
  {
   "cell_type": "code",
   "execution_count": 66,
   "metadata": {},
   "outputs": [],
   "source": [
    "df= df[1:10]"
   ]
  },
  {
   "cell_type": "code",
   "execution_count": 67,
   "metadata": {},
   "outputs": [
    {
     "name": "stdout",
     "output_type": "stream",
     "text": [
      "The Reserve Bank Of India Act\n",
      "The Reserve Bank Of India Act\n",
      "The Scheduled Castes And Scheduled Tribes Orders Act\n",
      "The Banking Companies Act\n",
      "The Code Of Civil Procedure Act\n",
      "The Banking Companies Act\n",
      "The Banking Companies Act\n",
      "The Scheduled Castes And Scheduled Tribes Orders Act\n",
      "The Scheduled Castes And Scheduled Tribes Orders Act\n"
     ]
    }
   ],
   "source": [
    "for index, row in df.iterrows():\n",
    "    while 1:\n",
    "        index_1 = row['Act_Name'].find('(')\n",
    "        index_2 = row['Act_Name'].find(')')\n",
    "        if(index_1 == -1):\n",
    "            break;\n",
    "        df.loc[index,'Act_Name']= row['Act_Name'].replace(row['Act_Name'][index_1:index_2+1],'');\n",
    "        \n",
    "    \n",
    "    df.loc[index,'Act_Name']=  df.loc[index,'Act_Name'].replace('Amendment','');\n",
    "    df.loc[index,'Act_Name']=  df.loc[index,'Act_Name'].replace('Amending','');\n",
    "\n",
    "    df.loc[index,'Act_Name']=  df.loc[index,'Act_Name'].replace('  ',' ');\n",
    "\n",
    "    print( row['Act_Name'])"
   ]
  },
  {
   "cell_type": "code",
   "execution_count": 68,
   "metadata": {},
   "outputs": [
    {
     "data": {
      "text/plain": [
       "{'The Banking Companies Act': Int64Index([4, 6, 7], dtype='int64'),\n",
       " 'The Code Of Civil Procedure Act': Int64Index([5], dtype='int64'),\n",
       " 'The Reserve Bank Of India Act': Int64Index([1, 2], dtype='int64'),\n",
       " 'The Scheduled Castes And Scheduled Tribes Orders Act': Int64Index([3, 8, 9], dtype='int64')}"
      ]
     },
     "execution_count": 68,
     "metadata": {},
     "output_type": "execute_result"
    }
   ],
   "source": [
    "sort = df.groupby(\"Act_Name\")\n",
    "sort.groups"
   ]
  },
  {
   "cell_type": "code",
   "execution_count": 75,
   "metadata": {},
   "outputs": [],
   "source": [
    "sort.groups\n",
    "f  = open(\"testJson.json\",\"w+\");\n",
    "f.write(\"{ \\n \\\"Acts\\\":{\")\n",
    "first_act = True; \n",
    "for name, group in sort:\n",
    "    #f.write(\"{\\n\\\"Act_Name\\\": \\\"\"+name+\"\\\",\\n\");\n",
    "    if first_act:\n",
    "        f.write(\"\\n\\\"\"+name+\"\\\":[\\n\");\n",
    "        first_act = False;\n",
    "    else :\n",
    "        f.write(\",\\n\\\"\"+name+\"\\\":[\\n\");\n",
    "        \n",
    "    section_df = pd.DataFrame(columns=['df_index', 'Section'])\n",
    "    l = group.index.tolist()\n",
    "    i = 0 ; \n",
    "    for index in l:\n",
    "        if(df.loc[index,'Section'] == None):\n",
    "            continue ;\n",
    "        section_df.loc[i,'df_index'] = index ;\n",
    "        \n",
    "        section_string = df.loc[index,'Section'] ; \n",
    "        while 1:\n",
    "            index_1 = section_string.find('(')\n",
    "            index_2 = section_string.find(')')\n",
    "            if(index_1 == -1):\n",
    "                break\n",
    "            section_string = section_string.replace(section_string[index_1:index_2+1],'')\n",
    "        section_df.loc[i,'Section'] = section_string.replace('  ',' ') ;\n",
    "        i=i+1; \n",
    "        #section_df.append(str(index),df.loc[index,'Section']);\n",
    "    #f.write(\"\\{\\n\" );\n",
    "\n",
    "    section_sort = section_df.groupby('Section');\n",
    "    first_section = True; \n",
    "    for section_name, section_group in section_sort:\n",
    "        #print section name \n",
    "        #start json array \n",
    "        section_list = section_group.index.tolist(); \n",
    "        for section_df_index in section_list:\n",
    "            df_index_temp = section_df.loc[section_df_index,'df_index'] ; \n",
    "            if first_section:\n",
    "                f.write(\"{\\n\\\"Section_Name\\\": \\\"\"+df.loc[df_index_temp,'Section'] + \"\\\", \\n\" );\n",
    "                first_section = False ;\n",
    "            else:\n",
    "                f.write(\",{\\n\\\"Section_Name\\\": \\\"\"+df.loc[df_index_temp,'Section'] + \"\\\", \\n\" );\n",
    "\n",
    "            f.write(\"\\\"Title\\\": \\\"\"+df.loc[df_index_temp,'Title'] + \"\\\", \\n\" );\n",
    "            f.write(\"\\\"Date\\\": \\\"\"+df.loc[df_index_temp,'Date'] + \"\\\", \\n\" );\n",
    "            f.write(\"\\\"Document_Num\\\": \\\"\"+df.loc[df_index_temp,'Document Num'] + \"\\\", \\n\" );\n",
    "            #f.write(\"\\\"Headline\\\": \\\"\"+df.loc[df_index_temp,'Headline'] + \"\\\", \\n\" );\n",
    "            f.write(\"\\\"URL\\\": \\\"\"+df.loc[df_index_temp,'URL'] + \"\\\" \\n\" );\n",
    "            f.write(\"}\\n\")\n",
    "    f.write(\"]\" );\n",
    "f.write(\"\\n}\\n}\" );\n",
    "\n",
    "f.close();"
   ]
  },
  {
   "cell_type": "code",
   "execution_count": 28,
   "metadata": {},
   "outputs": [],
   "source": [
    "#json generator code \n",
    "f  = open(\"testJson.json\",\"w+\");\n",
    "f.write(\"{ \\n\")\n",
    "for name, group in sort:\n",
    "    f.write(\"\\\"Act_Name\\\": \\\"\"+name+\"\\\",\\n\");\n",
    "f.write(\"}\");\n",
    "f.close();"
   ]
  },
  {
   "cell_type": "code",
   "execution_count": 26,
   "metadata": {},
   "outputs": [
    {
     "name": "stdout",
     "output_type": "stream",
     "text": [
      "\"He;;p\n"
     ]
    }
   ],
   "source": [
    "print(\"\\\"He;;p\");"
   ]
  },
  {
   "cell_type": "code",
   "execution_count": 19,
   "metadata": {},
   "outputs": [
    {
     "data": {
      "text/html": [
       "<div>\n",
       "<style scoped>\n",
       "    .dataframe tbody tr th:only-of-type {\n",
       "        vertical-align: middle;\n",
       "    }\n",
       "\n",
       "    .dataframe tbody tr th {\n",
       "        vertical-align: top;\n",
       "    }\n",
       "\n",
       "    .dataframe thead th {\n",
       "        text-align: right;\n",
       "    }\n",
       "</style>\n",
       "<table border=\"1\" class=\"dataframe\">\n",
       "  <thead>\n",
       "    <tr style=\"text-align: right;\">\n",
       "      <th></th>\n",
       "      <th>0</th>\n",
       "      <th>1</th>\n",
       "      <th>2</th>\n",
       "    </tr>\n",
       "  </thead>\n",
       "  <tbody>\n",
       "    <tr>\n",
       "      <th>0</th>\n",
       "      <td>1</td>\n",
       "      <td>2</td>\n",
       "      <td>3</td>\n",
       "    </tr>\n",
       "    <tr>\n",
       "      <th>1</th>\n",
       "      <td>3</td>\n",
       "      <td>4</td>\n",
       "      <td>5</td>\n",
       "    </tr>\n",
       "  </tbody>\n",
       "</table>\n",
       "</div>"
      ],
      "text/plain": [
       "   0  1  2\n",
       "0  1  2  3\n",
       "1  3  4  5"
      ]
     },
     "execution_count": 19,
     "metadata": {},
     "output_type": "execute_result"
    }
   ],
   "source": [
    "a = [] ; \n",
    "i = 0 ; \n",
    "for name,group in sort:\n",
    "    print('Act: ' + str(name))\n",
    "    a.append( group.index.tolist())\n",
    "    i = i+1 ; \n",
    "    print(\"\\n\")"
   ]
  },
  {
   "cell_type": "code",
   "execution_count": null,
   "metadata": {},
   "outputs": [],
   "source": []
  }
 ],
 "metadata": {
  "kernelspec": {
   "display_name": "Python 3",
   "language": "python",
   "name": "python3"
  },
  "language_info": {
   "codemirror_mode": {
    "name": "ipython",
    "version": 3
   },
   "file_extension": ".py",
   "mimetype": "text/x-python",
   "name": "python",
   "nbconvert_exporter": "python",
   "pygments_lexer": "ipython3",
   "version": "3.7.0"
  }
 },
 "nbformat": 4,
 "nbformat_minor": 2
}
